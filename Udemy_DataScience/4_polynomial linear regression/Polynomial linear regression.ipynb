{
 "cells": [
  {
   "cell_type": "markdown",
   "id": "492ec9dc",
   "metadata": {},
   "source": [
    "# Import the libraries "
   ]
  },
  {
   "cell_type": "code",
   "execution_count": 12,
   "id": "d8d6a5b0",
   "metadata": {},
   "outputs": [],
   "source": [
    "import numpy as np\n",
    "import pandas as pd\n",
    "import matplotlib.pyplot as plt"
   ]
  },
  {
   "cell_type": "markdown",
   "id": "5dc769dd",
   "metadata": {},
   "source": [
    "# Import the dataset"
   ]
  },
  {
   "cell_type": "code",
   "execution_count": 13,
   "id": "83d3dc2b",
   "metadata": {},
   "outputs": [],
   "source": [
    "df=pd.read_csv(\"Position_Salaries.csv\")\n",
    "x=df.iloc[:,1:-1].values #take the second index(1) because the values in first column are lable encoded formet as in 1st\n",
    "y=df.iloc[:,-1].values"
   ]
  },
  {
   "cell_type": "markdown",
   "id": "032788ae",
   "metadata": {},
   "source": [
    "# Training the linear regression model"
   ]
  },
  {
   "cell_type": "code",
   "execution_count": 14,
   "id": "33a2a67d",
   "metadata": {},
   "outputs": [
    {
     "data": {
      "text/plain": [
       "LinearRegression()"
      ]
     },
     "execution_count": 14,
     "metadata": {},
     "output_type": "execute_result"
    }
   ],
   "source": [
    "from sklearn.linear_model import LinearRegression\n",
    "lin_reg=LinearRegression()\n",
    "lin_reg.fit(x,y)"
   ]
  },
  {
   "cell_type": "markdown",
   "id": "9dd04086",
   "metadata": {},
   "source": [
    "# Training the polynomial regression"
   ]
  },
  {
   "cell_type": "code",
   "execution_count": 20,
   "id": "cf6bdd3d",
   "metadata": {},
   "outputs": [
    {
     "data": {
      "text/plain": [
       "LinearRegression()"
      ]
     },
     "execution_count": 20,
     "metadata": {},
     "output_type": "execute_result"
    }
   ],
   "source": [
    "from sklearn.preprocessing import PolynomialFeatures\n",
    "poly_reg=PolynomialFeatures(degree=4)\n",
    "#now convert the x values into the polynomial features i.e, b2x1^2(for degree 2)\n",
    "x_poly=poly_reg.fit_transform(x)\n",
    "lin_reg_2=LinearRegression()\n",
    "lin_reg_2.fit(x_poly,y)"
   ]
  },
  {
   "cell_type": "markdown",
   "id": "f0bf9c2e",
   "metadata": {},
   "source": [
    "# Visualizing the linear regression results"
   ]
  },
  {
   "cell_type": "code",
   "execution_count": 21,
   "id": "ead63a99",
   "metadata": {},
   "outputs": [
    {
     "data": {
      "image/png": "[encoded data removed]",
      "text/plain": [
       "<Figure size 432x288 with 1 Axes>"
      ]
     },
     "metadata": {
      "needs_background": "light"
     },
     "output_type": "display_data"
    }
   ],
   "source": [
    "plt.scatter(x,y,color='red')\n",
    "plt.plot(x,lin_reg.predict(x),color='blue')\n",
    "plt.title('Linear regression')\n",
    "plt.xlabel('Level of employee')\n",
    "plt.ylabel('Salary')\n",
    "plt.show()"
   ]
  },
  {
   "cell_type": "markdown",
   "id": "a759019d",
   "metadata": {},
   "source": [
    "# Visualizing the Polynomial regression results"
   ]
  },
  {
   "cell_type": "code",
   "execution_count": 22,
   "id": "b980fd7a",
   "metadata": {},
   "outputs": [
    {
     "data": {
      "image/png": "[encoded data removed]",
      "text/plain": [
       "<Figure size 432x288 with 1 Axes>"
      ]
     },
     "metadata": {
      "needs_background": "light"
     },
     "output_type": "display_data"
    }
   ],
   "source": [
    "plt.scatter(x,y,color='red')\n",
    "#X has 1 features, but LinearRegression is expecting 3 features as input.\n",
    "plt.plot(x,lin_reg_2.predict(poly_reg.fit_transform(x)),color='blue')\n",
    "#input the polynomial x features becaues of the degree 2 y=b0 + b1x1 + b2x1^2\n",
    "plt.title('Polynomial regression')\n",
    "plt.xlabel('Level of employee')\n",
    "plt.ylabel('Salary')\n",
    "plt.show()"
   ]
  },
  {
   "cell_type": "markdown",
   "id": "efb8afaf",
   "metadata": {},
   "source": [
    "# Predicting the new results with linear regression"
   ]
  },
  {
   "cell_type": "code",
   "execution_count": 23,
   "id": "546dfd3e",
   "metadata": {},
   "outputs": [
    {
     "data": {
      "text/plain": [
       "array([330378.78787879])"
      ]
     },
     "execution_count": 23,
     "metadata": {},
     "output_type": "execute_result"
    }
   ],
   "source": [
    "lin_reg.predict([[6.5]]) #give the required level as vector i.e, 2D array"
   ]
  },
  {
   "cell_type": "markdown",
   "id": "526bb62b",
   "metadata": {},
   "source": [
    "The candidate says that he wants 160000$ as he got from the previous company and he wants the same \n",
    "and HR team wants to review this\n",
    "\n",
    "When they review with linear regression model, it shows too far from the expected salary.\n",
    "\n",
    "So, they choose polynomial regression to make the accurate results"
   ]
  },
  {
   "cell_type": "markdown",
   "id": "a24fdeba",
   "metadata": {},
   "source": [
    "# Predicting the new results with linear regression"
   ]
  },
  {
   "cell_type": "code",
   "execution_count": 24,
   "id": "34340901",
   "metadata": {},
   "outputs": [
    {
     "data": {
      "text/plain": [
       "array([158862.45265153])"
      ]
     },
     "execution_count": 24,
     "metadata": {},
     "output_type": "execute_result"
    }
   ],
   "source": [
    "lin_reg_2.predict(poly_reg.fit_transform([[6.5]])) #for degree 4 it shows the accurate and reliable result"
   ]
  }
 ],
 "metadata": {
  "kernelspec": {
   "display_name": "Python 3 (ipykernel)",
   "language": "python",
   "name": "python3"
  },
  "language_info": {
   "codemirror_mode": {
    "name": "ipython",
    "version": 3
   },
   "file_extension": ".py",
   "mimetype": "text/x-python",
   "name": "python",
   "nbconvert_exporter": "python",
   "pygments_lexer": "ipython3",
   "version": "3.9.12"
  }
 },
 "nbformat": 4,
 "nbformat_minor": 5
}
